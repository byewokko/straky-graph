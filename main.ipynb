{
 "cells": [
  {
   "cell_type": "code",
   "execution_count": 1,
   "metadata": {},
   "outputs": [],
   "source": [
    "import networkx as nx\n",
    "from main import Board, GameGraph"
   ]
  },
  {
   "cell_type": "code",
   "execution_count": 2,
   "metadata": {},
   "outputs": [],
   "source": [
    "N = 4\n",
    "board = Board(N)\n",
    "gg = GameGraph(board)"
   ]
  },
  {
   "cell_type": "code",
   "execution_count": 3,
   "metadata": {},
   "outputs": [
    {
     "name": "stdout",
     "output_type": "stream",
     "text": [
      "New game.\n",
      "\n",
      "Player 1 places tile ░░ at column 3, row 2.\n",
      "________\n",
      "________\n",
      "______░░\n",
      "________\n",
      "\n",
      "Player 2 inserts tile ██ at the top of column 0.\n",
      "██______\n",
      "________\n",
      "______░░\n",
      "________\n",
      "\n",
      "Player 1 places tile ░░ at column 3, row 3.\n",
      "██______\n",
      "________\n",
      "______░░\n",
      "______░░\n",
      "\n",
      "Player 2 places tile ██ at column 1, row 1.\n",
      "██______\n",
      "__██____\n",
      "______░░\n",
      "______░░\n",
      "\n",
      "Player 1 places tile ░░ at column 0, row 1.\n",
      "██______\n",
      "░░██____\n",
      "______░░\n",
      "______░░\n",
      "\n",
      "Player 2 flips row 2.\n",
      "██______\n",
      "░░██____\n",
      "______██\n",
      "______░░\n",
      "\n",
      "Player 1 inserts tile ░░ to the left of row 3.\n",
      "██______\n",
      "░░██____\n",
      "______██\n",
      "░░______\n",
      "\n",
      "Player 2 places tile ██ at column 2, row 3.\n",
      "██______\n",
      "░░██____\n",
      "______██\n",
      "░░__██__\n",
      "\n",
      "Player 1 inserts tile ░░ to the right of row 1.\n",
      "██______\n",
      "██____░░\n",
      "______██\n",
      "░░__██__\n",
      "\n",
      "Player 2 inserts tile ██ at the top of column 0.\n",
      "██______\n",
      "██____░░\n",
      "██____██\n",
      "____██__\n",
      "\n",
      "Player 1 inserts tile ░░ at the bottom of column 1.\n",
      "██______\n",
      "██____░░\n",
      "██____██\n",
      "__░░██__\n",
      "\n",
      "Player 2 inserts tile ██ at the top of column 0.\n",
      "██______\n",
      "██____░░\n",
      "██____██\n",
      "██░░██__\n",
      "\n",
      "Player 2 wins!\n"
     ]
    }
   ],
   "source": [
    "gg.play_random_game()"
   ]
  }
 ],
 "metadata": {
  "kernelspec": {
   "display_name": ".venv",
   "language": "python",
   "name": "python3"
  },
  "language_info": {
   "codemirror_mode": {
    "name": "ipython",
    "version": 3
   },
   "file_extension": ".py",
   "mimetype": "text/x-python",
   "name": "python",
   "nbconvert_exporter": "python",
   "pygments_lexer": "ipython3",
   "version": "3.13.1"
  }
 },
 "nbformat": 4,
 "nbformat_minor": 2
}
