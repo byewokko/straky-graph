{
 "cells": [
  {
   "cell_type": "code",
   "execution_count": 1,
   "metadata": {},
   "outputs": [],
   "source": [
    "import networkx as nx\n",
    "import straky"
   ]
  },
  {
   "cell_type": "code",
   "execution_count": 2,
   "metadata": {},
   "outputs": [],
   "source": [
    "N = 4\n",
    "board = straky.Board(N)"
   ]
  },
  {
   "cell_type": "code",
   "execution_count": 3,
   "metadata": {},
   "outputs": [
    {
     "name": "stdout",
     "output_type": "stream",
     "text": [
      "New game.\n",
      "\n",
      "Player 1 pushes row 4 left with tile ░░.\n",
      "  A B C D \n",
      "1 ________\n",
      "2 ________\n",
      "3 ________\n",
      "4 ______░░\n",
      "\n",
      "Player 2 places tile ██ at B1.\n",
      "  A B C D \n",
      "1 __██____\n",
      "2 ________\n",
      "3 ________\n",
      "4 ______░░\n",
      "\n",
      "Player 1 pushes column B up with tile ░░.\n",
      "  A B C D \n",
      "1 ________\n",
      "2 ________\n",
      "3 ________\n",
      "4 __░░__░░\n",
      "\n",
      "Player 2 places tile ██ at A3.\n",
      "  A B C D \n",
      "1 ________\n",
      "2 ________\n",
      "3 ██______\n",
      "4 __░░__░░\n",
      "\n",
      "Player 1 pushes row 4 left with tile ░░.\n",
      "  A B C D \n",
      "1 ________\n",
      "2 ________\n",
      "3 ██______\n",
      "4 ░░__░░░░\n",
      "\n",
      "Player 2 places tile ██ at A1.\n",
      "  A B C D \n",
      "1 ██______\n",
      "2 ________\n",
      "3 ██______\n",
      "4 ░░__░░░░\n",
      "\n",
      "Player 1 places tile ░░ at D2.\n",
      "  A B C D \n",
      "1 ██______\n",
      "2 ______░░\n",
      "3 ██______\n",
      "4 ░░__░░░░\n",
      "\n",
      "Player 2 flips row 1.\n",
      "  A B C D \n",
      "1 ░░______\n",
      "2 ______░░\n",
      "3 ██______\n",
      "4 ░░__░░░░\n",
      "\n",
      "Player 1 places tile ░░ at B4.\n",
      "  A B C D \n",
      "1 ░░______\n",
      "2 ______░░\n",
      "3 ██______\n",
      "4 ░░░░░░░░\n",
      "\n",
      "Player 1 wins!\n"
     ]
    }
   ],
   "source": [
    "board.play_game(players=[straky.player.PlayerRandom(), straky.player.PlayerRandom()])"
   ]
  }
 ],
 "metadata": {
  "kernelspec": {
   "display_name": ".venv",
   "language": "python",
   "name": "python3"
  },
  "language_info": {
   "codemirror_mode": {
    "name": "ipython",
    "version": 3
   },
   "file_extension": ".py",
   "mimetype": "text/x-python",
   "name": "python",
   "nbconvert_exporter": "python",
   "pygments_lexer": "ipython3",
   "version": "3.13.1"
  }
 },
 "nbformat": 4,
 "nbformat_minor": 2
}
